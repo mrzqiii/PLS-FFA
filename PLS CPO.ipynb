{
 "cells": [
  {
   "cell_type": "code",
   "execution_count": 8,
   "id": "e5351b8e",
   "metadata": {},
   "outputs": [],
   "source": [
    "import os\n",
    "import numpy as np\n",
    "from scipy.signal import savgol_filter\n",
    "import matplotlib.pyplot as plt\n",
    "import sklearn.linear_model as linear_model\n",
    "from sklearn.cross_decomposition import PLSRegression\n",
    "import pandas as pd\n",
    "from sklearn.preprocessing import MinMaxScaler"
   ]
  },
  {
   "cell_type": "markdown",
   "id": "c8370407",
   "metadata": {},
   "source": [
    "# Data Input"
   ]
  },
  {
   "cell_type": "markdown",
   "id": "688c3272",
   "metadata": {},
   "source": [
    "In this section, we will input the data from 2 files: 'Labels and Concentration.txt' and 'Raman Spectra.csv'. Final data sized in 120 rows and 615 columns. 613 columns from the raman spectra, 1 column for the labels, and 1 column for concentration of each samples."
   ]
  },
  {
   "cell_type": "code",
   "execution_count": 9,
   "id": "572a861f",
   "metadata": {},
   "outputs": [
    {
     "name": "stdout",
     "output_type": "stream",
     "text": [
      "   concentration    labels\n",
      "0          CPO.C  7.231181\n",
      "1          CPO.C  6.440270\n",
      "2          CPO.C  5.536373\n",
      "3          CPO.W  5.875334\n",
      "4          CPO.W  5.875334\n",
      "5          CPO.W  4.971437\n",
      "6          CPO.W  7.344168\n",
      "7          CPO.W  7.118194\n",
      "8          CPO.W  6.440270\n",
      "9          CPO.K  4.519488\n",
      "10         CPO.K  4.293514\n",
      "11         CPO.K  3.615590\n",
      "12        CPO.MM  5.197411\n",
      "13        CPO.MM  5.084424\n",
      "14        CPO.MM  5.084424\n",
      "15        CPO.MM  5.084424\n",
      "16        CPO.MM  6.101309\n",
      "17         CPO.W  6.327283\n",
      "18         CPO.W  4.858450\n",
      "19         CPO.W  5.197411\n",
      "20         CPO.W  4.858450\n",
      "21         CPO.W  5.084424\n",
      "22         CPO.W  5.649360\n",
      "23         CPO.W  4.858450\n",
      "24         CPO.W  4.971437\n",
      "25         CPO.W  4.971437\n",
      "26         CPO.W  5.197411\n",
      "27         CPO.W  7.118194\n",
      "28         CPO.W  5.875334\n",
      "29         CPO.W  4.745462\n"
     ]
    }
   ],
   "source": [
    "# Read the file into a list of lines\n",
    "with open('Labels.txt', 'r') as file:\n",
    "    lines = file.readlines()\n",
    "    \n",
    "# Process the data\n",
    "data = []\n",
    "for line in lines:\n",
    "    # Split the line by whitespace\n",
    "    parts = line.split()\n",
    "    # Append a tuple of (first part, second part, third part) to the data list\n",
    "    data.append((parts[0],float(parts[1])))\n",
    "\n",
    "# Create a DataFrame from the data list\n",
    "df = pd.DataFrame(data, columns=['concentration', 'labels'])\n",
    "\n",
    "# Display the DataFrame\n",
    "print(df)"
   ]
  },
  {
   "cell_type": "code",
   "execution_count": 10,
   "id": "9fdae07c",
   "metadata": {},
   "outputs": [
    {
     "name": "stdout",
     "output_type": "stream",
     "text": [
      "      1799.19    1797.46    1795.74    1794.02    1792.29    1790.57  \\\n",
      "0   49.847706  49.694997  47.176765  42.905917  37.495324  31.557828   \n",
      "1   48.780432  51.550474  50.069104  45.414982  38.666721  30.902893   \n",
      "2    0.558753   2.212068   3.084047   3.317088   3.053579   2.435904   \n",
      "3   29.473196  27.890137  25.110104  21.465330  17.288031  12.910408   \n",
      "4   44.316815  39.552328  36.591366  34.692444  33.114071  31.114749   \n",
      "5    0.101778   0.271498   0.588329   0.978604   1.368654   1.684810   \n",
      "6   65.295167  74.481910  76.744897  73.414209  65.819845  55.291727   \n",
      "7   57.855035  66.602564  68.477080  64.866082  57.156984  46.737138   \n",
      "8    2.347753   2.016581   1.575358   1.097388   0.655974   0.324418   \n",
      "9   36.378612  27.572736  22.228926  19.367300  18.007993  17.171148   \n",
      "10  54.128529  49.357510  45.207448  41.460531  37.898937  34.304825   \n",
      "11  -0.000137   0.354657   0.465915   0.406797   0.250462   0.070067   \n",
      "12  27.024943  25.388351  23.837863  22.299852  20.700682  18.966709   \n",
      "13  21.020364  20.043806  18.386320  16.212781  13.688050  10.976977   \n",
      "14  10.331074   9.659165   8.723167   7.579867   6.286049   4.898494   \n",
      "15   2.160638   6.405402   8.881746   9.856615   9.596933   8.369612   \n",
      "16   5.823846   5.178871   5.140530   5.446057   5.832686   6.037649   \n",
      "17  23.435242  25.500405  25.491290  23.902505  21.228631  17.964229   \n",
      "18   2.158130   1.424289   0.826267   0.379333   0.098756  -0.000194   \n",
      "19  28.777764  28.725353  28.176474  27.078451  25.378594  23.024196   \n",
      "20   0.397015   0.302319   0.199910   0.105138   0.033353  -0.000096   \n",
      "21  10.375333  14.937938  17.233429  17.747132  16.964351  15.370368   \n",
      "22   6.302077   3.531422   2.150714   1.803490   2.133296   2.783684   \n",
      "23  20.283274  18.222702  18.231286  19.446049  21.004022  22.042227   \n",
      "24   2.728057   5.515140   7.094025   7.676307   7.473564   6.697367   \n",
      "25  14.987265  25.448220  29.451138  28.560938  24.342480  18.360575   \n",
      "26  -0.000593   3.921475   6.119305   6.925647   6.673232   5.694779   \n",
      "27  36.844300  42.295383  43.311353  40.720396  35.350641  28.030174   \n",
      "28  42.822643  48.652026  49.701148  47.026182  41.683246  34.728412   \n",
      "29   1.841648   2.447478   2.812591   2.963165   2.925377   2.725400   \n",
      "\n",
      "      1788.84    1787.11    1785.39    1783.66  ...    419.392     417.326  \\\n",
      "0   26.754550  21.267738  17.629275  12.157604  ...  24.786299   38.605740   \n",
      "1   26.322184  19.715700  13.425870  11.314558  ...  26.748807   45.064012   \n",
      "2    1.718141   0.472867   0.007777  -0.000800  ...  35.065889   32.980265   \n",
      "3    9.055072   5.145940   3.665037   0.825996  ...  44.017942   51.188549   \n",
      "4   23.508088  18.194788  13.910245   9.478974  ...  52.845398   63.069774   \n",
      "5    1.865129   1.136090   0.684140  -0.000169  ...  30.436358   27.426479   \n",
      "6   41.409773  31.497175  24.251439  14.870900  ...  60.453994   73.570984   \n",
      "7   36.933094  24.099203  14.520842   6.021777  ...  92.663334  108.791256   \n",
      "8    0.985489   0.592802   0.216117   0.224751  ...  29.115628   27.166364   \n",
      "9   12.389142   9.388027   5.466380   4.711955  ...  24.877676   40.463050   \n",
      "10  31.269130  23.796052  20.115538  14.370734  ...  29.530552   42.041690   \n",
      "11   0.158847   0.211226   0.420761   0.478322  ...   7.013724    7.008875   \n",
      "12  17.353252  15.602780  11.022183   8.324495  ...  14.426289   23.168829   \n",
      "13   7.869769   5.597007   4.446200   1.852489  ...  22.997466   29.079041   \n",
      "14   2.966354   1.567981   0.361898   0.002803  ...  12.481573   14.630833   \n",
      "15   5.985906   4.058500   1.031480  -0.000567  ...  20.168303   29.231569   \n",
      "16   5.825566   3.235930   0.579121  -0.001363  ...  12.473367   15.843005   \n",
      "17  15.258717  13.440055  10.194924   8.038307  ...  41.767246   53.171719   \n",
      "18   0.427963   0.594882   0.929628   1.469873  ...   4.227739    3.993979   \n",
      "19  19.671552  14.130728   9.693041   6.300701  ...  27.347511   40.251104   \n",
      "20   0.205334   0.161271   0.422012   0.406920  ...   4.018857    3.949715   \n",
      "21  13.606465  12.614103  11.594185  10.979403  ...  28.195014   37.216925   \n",
      "22   3.013245   2.834746   2.283867   1.153643  ...  14.832352   16.491850   \n",
      "23  18.220568  14.631802  10.586747   6.264463  ...  20.668664   26.527787   \n",
      "24   5.197702   4.861656   3.567122   1.922486  ...  25.480200   26.355131   \n",
      "25  15.465396  12.319559   8.654744   5.191545  ...  51.513014   61.645342   \n",
      "26   4.311156   3.251533   2.208534   1.946690  ...   6.635124    7.046869   \n",
      "27  18.513714   9.396554   5.075054   1.383056  ...  23.329114   39.180100   \n",
      "28  28.685480  23.519133  16.428037  10.105024  ...  35.538289   42.796543   \n",
      "29   2.664508   1.626866   0.874626   0.217188  ...   6.554637    7.154270   \n",
      "\n",
      "       415.259     413.191    411.123    409.054    406.985    404.915  \\\n",
      "0    44.713877   48.646848  51.580383  46.686215  45.136449  50.771499   \n",
      "1    57.899335   66.077966  67.185031  68.667332  69.457775  70.381777   \n",
      "2    30.460154   26.733593  23.345844  19.621391  15.493401  10.892790   \n",
      "3    56.336475   55.189453  57.812658  57.149373  55.780350  54.015451   \n",
      "4    79.484107   80.852621  72.719780  59.224790  46.974608  39.985037   \n",
      "5    25.332689   22.883455  18.521426  14.791464  11.007168   7.235582   \n",
      "6    68.605336   63.946251  74.322765  67.664738  60.939244  56.633839   \n",
      "7   112.697920  100.877122  89.618492  66.207897  51.785591  54.917299   \n",
      "8    23.297825   18.859189  14.564068  10.154625   6.182865   2.959158   \n",
      "9    44.675803   40.747571  39.897536  36.886388  34.662887  34.379055   \n",
      "10   50.541632   58.317100  58.380897  52.644094  46.317445  41.567391   \n",
      "11    6.617544    5.563279   3.331330   1.861867   0.697962   0.017745   \n",
      "12   26.542705   29.194291  28.597844  24.573218  19.973741  15.940139   \n",
      "13   33.299574   35.575713  34.903396  35.329589  34.455965  31.929019   \n",
      "14   14.694978   11.820753   8.165357   5.003227   3.516037   4.791865   \n",
      "15   38.277760   36.232305  31.304353  26.813408  23.246059  22.056475   \n",
      "16   18.182630   19.633983  19.965272  20.507851  20.650683  20.410014   \n",
      "17   59.450329   58.765013  56.250574  52.998416  47.923794  41.059526   \n",
      "18    4.158242    3.040523   2.419071   1.193818   0.289881  -0.000478   \n",
      "19   42.018565   41.622099  34.057881  23.015706  12.168768   3.750396   \n",
      "20    3.469302    3.728733   3.037803   3.036528   2.901156   2.462597   \n",
      "21   43.583326   47.515842  44.867523  41.376650  36.481593  30.708339   \n",
      "22   15.065651   14.365211  12.358630   7.247229   2.709427  -0.002090   \n",
      "23   38.108670   41.542806  41.362054  43.728760  45.527187  46.647871   \n",
      "24   35.524804   40.702832  35.802820  29.718698  26.117877  27.856897   \n",
      "25   67.046263   62.953048  57.562986  47.987312  39.246523  33.659236   \n",
      "26    5.105591    5.637761   4.744908   3.143719   1.615802   0.466097   \n",
      "27   42.014821   43.949767  38.993011  40.318043  42.683944  46.314828   \n",
      "28   48.267722   55.829471  58.828432  55.748246  55.006501  59.589782   \n",
      "29    4.536066    3.006535   1.874645   0.674890  -0.000661   0.077106   \n",
      "\n",
      "      402.845     400.775  \n",
      "0   67.431835   98.958017  \n",
      "1   72.264724   75.931986  \n",
      "2    5.750465   -0.002678  \n",
      "3   52.164512   50.537345  \n",
      "4   42.271915   57.851154  \n",
      "5    3.543744   -0.001308  \n",
      "6   57.236083   65.233558  \n",
      "7   84.168902  148.106520  \n",
      "8    0.793884   -0.002571  \n",
      "9   37.186915   44.238510  \n",
      "10  40.560369   45.462837  \n",
      "11  -0.000647    0.820929  \n",
      "12  13.613136   14.133464  \n",
      "13  27.395213   20.500978  \n",
      "14   9.918815   19.985028  \n",
      "15  24.698835   32.627350  \n",
      "16  19.802076   18.843091  \n",
      "17  32.438388   22.093126  \n",
      "18   0.615008    2.428660  \n",
      "19  -0.006063    3.132783  \n",
      "20   1.551753   -0.000475  \n",
      "21  24.582851   18.631073  \n",
      "22   0.365383    5.064788  \n",
      "23  46.981321   46.418023  \n",
      "24  37.792341   58.780862  \n",
      "25  33.544089   41.219758  \n",
      "26  -0.000453    0.521104  \n",
      "27  51.434803   58.267973  \n",
      "28  72.484707   96.677953  \n",
      "29   1.137377    3.409349  \n",
      "\n",
      "[30 rows x 740 columns]\n"
     ]
    }
   ],
   "source": [
    "raman_full = pd.read_csv('RamanCPO.csv')\n",
    "\n",
    "print(raman_full) #Showing first 5 data"
   ]
  },
  {
   "cell_type": "code",
   "execution_count": 11,
   "id": "30e1a41b",
   "metadata": {},
   "outputs": [
    {
     "name": "stdout",
     "output_type": "stream",
     "text": [
      "            0          1          2          3          4          5  \\\n",
      "0   49.847706  49.694997  47.176765  42.905917  37.495324  31.557828   \n",
      "1   48.780432  51.550474  50.069104  45.414982  38.666721  30.902893   \n",
      "2    0.558753   2.212068   3.084047   3.317088   3.053579   2.435904   \n",
      "3   29.473196  27.890137  25.110104  21.465330  17.288031  12.910408   \n",
      "4   44.316815  39.552328  36.591366  34.692444  33.114071  31.114749   \n",
      "5    0.101778   0.271498   0.588329   0.978604   1.368654   1.684810   \n",
      "6   65.295167  74.481910  76.744897  73.414209  65.819845  55.291727   \n",
      "7   57.855035  66.602564  68.477080  64.866082  57.156984  46.737138   \n",
      "8    2.347753   2.016581   1.575358   1.097388   0.655974   0.324418   \n",
      "9   36.378612  27.572736  22.228926  19.367300  18.007993  17.171148   \n",
      "10  54.128529  49.357510  45.207448  41.460531  37.898937  34.304825   \n",
      "11  -0.000137   0.354657   0.465915   0.406797   0.250462   0.070067   \n",
      "12  27.024943  25.388351  23.837863  22.299852  20.700682  18.966709   \n",
      "13  21.020364  20.043806  18.386320  16.212781  13.688050  10.976977   \n",
      "14  10.331074   9.659165   8.723167   7.579867   6.286049   4.898494   \n",
      "15   2.160638   6.405402   8.881746   9.856615   9.596933   8.369612   \n",
      "16   5.823846   5.178871   5.140530   5.446057   5.832686   6.037649   \n",
      "17  23.435242  25.500405  25.491290  23.902505  21.228631  17.964229   \n",
      "18   2.158130   1.424289   0.826267   0.379333   0.098756  -0.000194   \n",
      "19  28.777764  28.725353  28.176474  27.078451  25.378594  23.024196   \n",
      "20   0.397015   0.302319   0.199910   0.105138   0.033353  -0.000096   \n",
      "21  10.375333  14.937938  17.233429  17.747132  16.964351  15.370368   \n",
      "22   6.302077   3.531422   2.150714   1.803490   2.133296   2.783684   \n",
      "23  20.283274  18.222702  18.231286  19.446049  21.004022  22.042227   \n",
      "24   2.728057   5.515140   7.094025   7.676307   7.473564   6.697367   \n",
      "25  14.987265  25.448220  29.451138  28.560938  24.342480  18.360575   \n",
      "26  -0.000593   3.921475   6.119305   6.925647   6.673232   5.694779   \n",
      "27  36.844300  42.295383  43.311353  40.720396  35.350641  28.030174   \n",
      "28  42.822643  48.652026  49.701148  47.026182  41.683246  34.728412   \n",
      "29   1.841648   2.447478   2.812591   2.963165   2.925377   2.725400   \n",
      "\n",
      "            6          7          8          9  ...         732         733  \\\n",
      "0   26.754550  21.267738  17.629275  12.157604  ...   44.713877   48.646848   \n",
      "1   26.322184  19.715700  13.425870  11.314558  ...   57.899335   66.077966   \n",
      "2    1.718141   0.472867   0.007777  -0.000800  ...   30.460154   26.733593   \n",
      "3    9.055072   5.145940   3.665037   0.825996  ...   56.336475   55.189453   \n",
      "4   23.508088  18.194788  13.910245   9.478974  ...   79.484107   80.852621   \n",
      "5    1.865129   1.136090   0.684140  -0.000169  ...   25.332689   22.883455   \n",
      "6   41.409773  31.497175  24.251439  14.870900  ...   68.605336   63.946251   \n",
      "7   36.933094  24.099203  14.520842   6.021777  ...  112.697920  100.877122   \n",
      "8    0.985489   0.592802   0.216117   0.224751  ...   23.297825   18.859189   \n",
      "9   12.389142   9.388027   5.466380   4.711955  ...   44.675803   40.747571   \n",
      "10  31.269130  23.796052  20.115538  14.370734  ...   50.541632   58.317100   \n",
      "11   0.158847   0.211226   0.420761   0.478322  ...    6.617544    5.563279   \n",
      "12  17.353252  15.602780  11.022183   8.324495  ...   26.542705   29.194291   \n",
      "13   7.869769   5.597007   4.446200   1.852489  ...   33.299574   35.575713   \n",
      "14   2.966354   1.567981   0.361898   0.002803  ...   14.694978   11.820753   \n",
      "15   5.985906   4.058500   1.031480  -0.000567  ...   38.277760   36.232305   \n",
      "16   5.825566   3.235930   0.579121  -0.001363  ...   18.182630   19.633983   \n",
      "17  15.258717  13.440055  10.194924   8.038307  ...   59.450329   58.765013   \n",
      "18   0.427963   0.594882   0.929628   1.469873  ...    4.158242    3.040523   \n",
      "19  19.671552  14.130728   9.693041   6.300701  ...   42.018565   41.622099   \n",
      "20   0.205334   0.161271   0.422012   0.406920  ...    3.469302    3.728733   \n",
      "21  13.606465  12.614103  11.594185  10.979403  ...   43.583326   47.515842   \n",
      "22   3.013245   2.834746   2.283867   1.153643  ...   15.065651   14.365211   \n",
      "23  18.220568  14.631802  10.586747   6.264463  ...   38.108670   41.542806   \n",
      "24   5.197702   4.861656   3.567122   1.922486  ...   35.524804   40.702832   \n",
      "25  15.465396  12.319559   8.654744   5.191545  ...   67.046263   62.953048   \n",
      "26   4.311156   3.251533   2.208534   1.946690  ...    5.105591    5.637761   \n",
      "27  18.513714   9.396554   5.075054   1.383056  ...   42.014821   43.949767   \n",
      "28  28.685480  23.519133  16.428037  10.105024  ...   48.267722   55.829471   \n",
      "29   2.664508   1.626866   0.874626   0.217188  ...    4.536066    3.006535   \n",
      "\n",
      "          734        735        736        737        738         739  labels  \\\n",
      "0   51.580383  46.686215  45.136449  50.771499  67.431835   98.958017   CPO.C   \n",
      "1   67.185031  68.667332  69.457775  70.381777  72.264724   75.931986   CPO.C   \n",
      "2   23.345844  19.621391  15.493401  10.892790   5.750465   -0.002678   CPO.C   \n",
      "3   57.812658  57.149373  55.780350  54.015451  52.164512   50.537345   CPO.W   \n",
      "4   72.719780  59.224790  46.974608  39.985037  42.271915   57.851154   CPO.W   \n",
      "5   18.521426  14.791464  11.007168   7.235582   3.543744   -0.001308   CPO.W   \n",
      "6   74.322765  67.664738  60.939244  56.633839  57.236083   65.233558   CPO.W   \n",
      "7   89.618492  66.207897  51.785591  54.917299  84.168902  148.106520   CPO.W   \n",
      "8   14.564068  10.154625   6.182865   2.959158   0.793884   -0.002571   CPO.W   \n",
      "9   39.897536  36.886388  34.662887  34.379055  37.186915   44.238510   CPO.K   \n",
      "10  58.380897  52.644094  46.317445  41.567391  40.560369   45.462837   CPO.K   \n",
      "11   3.331330   1.861867   0.697962   0.017745  -0.000647    0.820929   CPO.K   \n",
      "12  28.597844  24.573218  19.973741  15.940139  13.613136   14.133464  CPO.MM   \n",
      "13  34.903396  35.329589  34.455965  31.929019  27.395213   20.500978  CPO.MM   \n",
      "14   8.165357   5.003227   3.516037   4.791865   9.918815   19.985028  CPO.MM   \n",
      "15  31.304353  26.813408  23.246059  22.056475  24.698835   32.627350  CPO.MM   \n",
      "16  19.965272  20.507851  20.650683  20.410014  19.802076   18.843091  CPO.MM   \n",
      "17  56.250574  52.998416  47.923794  41.059526  32.438388   22.093126   CPO.W   \n",
      "18   2.419071   1.193818   0.289881  -0.000478   0.615008    2.428660   CPO.W   \n",
      "19  34.057881  23.015706  12.168768   3.750396  -0.006063    3.132783   CPO.W   \n",
      "20   3.037803   3.036528   2.901156   2.462597   1.551753   -0.000475   CPO.W   \n",
      "21  44.867523  41.376650  36.481593  30.708339  24.582851   18.631073   CPO.W   \n",
      "22  12.358630   7.247229   2.709427  -0.002090   0.365383    5.064788   CPO.W   \n",
      "23  41.362054  43.728760  45.527187  46.647871  46.981321   46.418023   CPO.W   \n",
      "24  35.802820  29.718698  26.117877  27.856897  37.792341   58.780862   CPO.W   \n",
      "25  57.562986  47.987312  39.246523  33.659236  33.544089   41.219758   CPO.W   \n",
      "26   4.744908   3.143719   1.615802   0.466097  -0.000453    0.521104   CPO.W   \n",
      "27  38.993011  40.318043  42.683944  46.314828  51.434803   58.267973   CPO.W   \n",
      "28  58.828432  55.748246  55.006501  59.589782  72.484707   96.677953   CPO.W   \n",
      "29   1.874645   0.674890  -0.000661   0.077106   1.137377    3.409349   CPO.W   \n",
      "\n",
      "    concentration  \n",
      "0        7.231181  \n",
      "1        6.440270  \n",
      "2        5.536373  \n",
      "3        5.875334  \n",
      "4        5.875334  \n",
      "5        4.971437  \n",
      "6        7.344168  \n",
      "7        7.118194  \n",
      "8        6.440270  \n",
      "9        4.519488  \n",
      "10       4.293514  \n",
      "11       3.615590  \n",
      "12       5.197411  \n",
      "13       5.084424  \n",
      "14       5.084424  \n",
      "15       5.084424  \n",
      "16       6.101309  \n",
      "17       6.327283  \n",
      "18       4.858450  \n",
      "19       5.197411  \n",
      "20       4.858450  \n",
      "21       5.084424  \n",
      "22       5.649360  \n",
      "23       4.858450  \n",
      "24       4.971437  \n",
      "25       4.971437  \n",
      "26       5.197411  \n",
      "27       7.118194  \n",
      "28       5.875334  \n",
      "29       4.745462  \n",
      "\n",
      "[30 rows x 742 columns]\n"
     ]
    }
   ],
   "source": [
    "all_data = pd.concat([raman_full, df], axis=1, ignore_index=True)\n",
    "all_data.rename(columns={740: 'labels', 741: 'concentration'}, inplace=True)\n",
    "labels = all_data['labels'].values\n",
    "\n",
    "print(all_data)"
   ]
  },
  {
   "cell_type": "code",
   "execution_count": 12,
   "id": "10f93a7b",
   "metadata": {},
   "outputs": [],
   "source": [
    "X = all_data.drop(columns=['concentration', 'labels']).values\n",
    "y = all_data['concentration'].values"
   ]
  },
  {
   "cell_type": "code",
   "execution_count": 13,
   "id": "bc067d1f",
   "metadata": {},
   "outputs": [
    {
     "name": "stdout",
     "output_type": "stream",
     "text": [
      "[[ 4.9847706e+01  4.9694997e+01  4.7176765e+01 ...  5.0771499e+01\n",
      "   6.7431835e+01  9.8958017e+01]\n",
      " [ 4.8780432e+01  5.1550474e+01  5.0069104e+01 ...  7.0381777e+01\n",
      "   7.2264724e+01  7.5931986e+01]\n",
      " [ 5.5875300e-01  2.2120680e+00  3.0840470e+00 ...  1.0892790e+01\n",
      "   5.7504650e+00 -2.6780000e-03]\n",
      " ...\n",
      " [ 3.6844300e+01  4.2295383e+01  4.3311353e+01 ...  4.6314828e+01\n",
      "   5.1434803e+01  5.8267973e+01]\n",
      " [ 4.2822643e+01  4.8652026e+01  4.9701148e+01 ...  5.9589782e+01\n",
      "   7.2484707e+01  9.6677953e+01]\n",
      " [ 1.8416480e+00  2.4474780e+00  2.8125910e+00 ...  7.7106000e-02\n",
      "   1.1373770e+00  3.4093490e+00]]\n"
     ]
    }
   ],
   "source": [
    "print(X)"
   ]
  },
  {
   "cell_type": "code",
   "execution_count": 14,
   "id": "f7b9c859",
   "metadata": {},
   "outputs": [
    {
     "data": {
      "text/plain": [
       "((30,), (30, 740))"
      ]
     },
     "execution_count": 14,
     "metadata": {},
     "output_type": "execute_result"
    }
   ],
   "source": [
    "np.array(y).shape, X.shape"
   ]
  },
  {
   "cell_type": "code",
   "execution_count": 15,
   "id": "cff25298",
   "metadata": {},
   "outputs": [],
   "source": [
    "from sklearn.linear_model import LinearRegression\n",
    "from sklearn.model_selection import train_test_split\n",
    "\n",
    "X_train, X_test, y_train, y_test, labels_train, labels_test = train_test_split(X, y, labels, test_size=0.2, random_state=42)\n",
    "X_train, X_val, y_train, y_val, labels_train, labels_val = train_test_split(X_train, y_train, labels_train, test_size=0.2, random_state=43)"
   ]
  },
  {
   "cell_type": "code",
   "execution_count": 16,
   "id": "293965ea",
   "metadata": {},
   "outputs": [
    {
     "data": {
      "text/plain": [
       "((19, 740), (6, 740), (19,), (6,))"
      ]
     },
     "execution_count": 16,
     "metadata": {},
     "output_type": "execute_result"
    }
   ],
   "source": [
    "X_train.shape, X_test.shape, y_train.shape, y_test.shape"
   ]
  },
  {
   "cell_type": "code",
   "execution_count": 17,
   "id": "f42e52af",
   "metadata": {},
   "outputs": [],
   "source": [
    "#K Fold Cross Validation\n",
    "from sklearn.model_selection import KFold\n",
    "from sklearn.model_selection import cross_val_score"
   ]
  },
  {
   "cell_type": "code",
   "execution_count": 18,
   "id": "070e8fc3",
   "metadata": {},
   "outputs": [
    {
     "name": "stderr",
     "output_type": "stream",
     "text": [
      "c:\\Users\\Hp\\anaconda3\\lib\\site-packages\\sklearn\\cross_decomposition\\_pls.py:271: UserWarning: Y residual is constant at iteration 3\n",
      "  warnings.warn(f\"Y residual is constant at iteration {k}\")\n",
      "c:\\Users\\Hp\\anaconda3\\lib\\site-packages\\sklearn\\cross_decomposition\\_pls.py:271: UserWarning: Y residual is constant at iteration 3\n",
      "  warnings.warn(f\"Y residual is constant at iteration {k}\")\n",
      "c:\\Users\\Hp\\anaconda3\\lib\\site-packages\\sklearn\\cross_decomposition\\_pls.py:271: UserWarning: Y residual is constant at iteration 3\n",
      "  warnings.warn(f\"Y residual is constant at iteration {k}\")\n",
      "c:\\Users\\Hp\\anaconda3\\lib\\site-packages\\sklearn\\cross_decomposition\\_pls.py:271: UserWarning: Y residual is constant at iteration 3\n",
      "  warnings.warn(f\"Y residual is constant at iteration {k}\")\n",
      "c:\\Users\\Hp\\anaconda3\\lib\\site-packages\\sklearn\\cross_decomposition\\_pls.py:271: UserWarning: Y residual is constant at iteration 3\n",
      "  warnings.warn(f\"Y residual is constant at iteration {k}\")\n",
      "c:\\Users\\Hp\\anaconda3\\lib\\site-packages\\sklearn\\cross_decomposition\\_pls.py:271: UserWarning: Y residual is constant at iteration 3\n",
      "  warnings.warn(f\"Y residual is constant at iteration {k}\")\n",
      "c:\\Users\\Hp\\anaconda3\\lib\\site-packages\\sklearn\\cross_decomposition\\_pls.py:271: UserWarning: Y residual is constant at iteration 3\n",
      "  warnings.warn(f\"Y residual is constant at iteration {k}\")\n",
      "c:\\Users\\Hp\\anaconda3\\lib\\site-packages\\sklearn\\cross_decomposition\\_pls.py:271: UserWarning: Y residual is constant at iteration 3\n",
      "  warnings.warn(f\"Y residual is constant at iteration {k}\")\n",
      "c:\\Users\\Hp\\anaconda3\\lib\\site-packages\\sklearn\\cross_decomposition\\_pls.py:271: UserWarning: Y residual is constant at iteration 3\n",
      "  warnings.warn(f\"Y residual is constant at iteration {k}\")\n",
      "c:\\Users\\Hp\\anaconda3\\lib\\site-packages\\sklearn\\cross_decomposition\\_pls.py:271: UserWarning: Y residual is constant at iteration 3\n",
      "  warnings.warn(f\"Y residual is constant at iteration {k}\")\n",
      "c:\\Users\\Hp\\anaconda3\\lib\\site-packages\\sklearn\\cross_decomposition\\_pls.py:271: UserWarning: Y residual is constant at iteration 3\n",
      "  warnings.warn(f\"Y residual is constant at iteration {k}\")\n",
      "c:\\Users\\Hp\\anaconda3\\lib\\site-packages\\sklearn\\cross_decomposition\\_pls.py:271: UserWarning: Y residual is constant at iteration 3\n",
      "  warnings.warn(f\"Y residual is constant at iteration {k}\")\n",
      "c:\\Users\\Hp\\anaconda3\\lib\\site-packages\\sklearn\\cross_decomposition\\_pls.py:271: UserWarning: Y residual is constant at iteration 3\n",
      "  warnings.warn(f\"Y residual is constant at iteration {k}\")\n",
      "c:\\Users\\Hp\\anaconda3\\lib\\site-packages\\sklearn\\cross_decomposition\\_pls.py:271: UserWarning: Y residual is constant at iteration 3\n",
      "  warnings.warn(f\"Y residual is constant at iteration {k}\")\n",
      "c:\\Users\\Hp\\anaconda3\\lib\\site-packages\\sklearn\\cross_decomposition\\_pls.py:271: UserWarning: Y residual is constant at iteration 3\n",
      "  warnings.warn(f\"Y residual is constant at iteration {k}\")\n",
      "c:\\Users\\Hp\\anaconda3\\lib\\site-packages\\sklearn\\cross_decomposition\\_pls.py:271: UserWarning: Y residual is constant at iteration 3\n",
      "  warnings.warn(f\"Y residual is constant at iteration {k}\")\n",
      "c:\\Users\\Hp\\anaconda3\\lib\\site-packages\\sklearn\\cross_decomposition\\_pls.py:271: UserWarning: Y residual is constant at iteration 3\n",
      "  warnings.warn(f\"Y residual is constant at iteration {k}\")\n",
      "c:\\Users\\Hp\\anaconda3\\lib\\site-packages\\sklearn\\cross_decomposition\\_pls.py:271: UserWarning: Y residual is constant at iteration 3\n",
      "  warnings.warn(f\"Y residual is constant at iteration {k}\")\n",
      "c:\\Users\\Hp\\anaconda3\\lib\\site-packages\\sklearn\\cross_decomposition\\_pls.py:271: UserWarning: Y residual is constant at iteration 3\n",
      "  warnings.warn(f\"Y residual is constant at iteration {k}\")\n",
      "c:\\Users\\Hp\\anaconda3\\lib\\site-packages\\sklearn\\cross_decomposition\\_pls.py:271: UserWarning: Y residual is constant at iteration 3\n",
      "  warnings.warn(f\"Y residual is constant at iteration {k}\")\n",
      "c:\\Users\\Hp\\anaconda3\\lib\\site-packages\\sklearn\\cross_decomposition\\_pls.py:271: UserWarning: Y residual is constant at iteration 3\n",
      "  warnings.warn(f\"Y residual is constant at iteration {k}\")\n"
     ]
    }
   ],
   "source": [
    "# Find best number of components using PRESS and cross-validation\n",
    "# Parameters:\n",
    "n_components = 10 # number of components to test\n",
    "press_train = []\n",
    "press_test = []\n",
    "fold = KFold(n_splits=3, shuffle=True, random_state=42)\n",
    "\n",
    "for i in range(1, n_components + 1):\n",
    "    pls = PLSRegression(n_components = i)\n",
    "    press_train.append(-np.mean(cross_val_score(pls, X_train, y_train, cv=fold, scoring='neg_mean_squared_error')))\n",
    "    press_test.append(-np.mean(cross_val_score(pls, X_test, y_test, cv=fold, scoring='neg_mean_squared_error')))"
   ]
  },
  {
   "cell_type": "code",
   "execution_count": 36,
   "id": "f5159df8",
   "metadata": {},
   "outputs": [
    {
     "data": {
      "image/png": "[encoded data removed]",
      "text/plain": [
       "<Figure size 432x288 with 1 Axes>"
      ]
     },
     "metadata": {
      "needs_background": "light"
     },
     "output_type": "display_data"
    }
   ],
   "source": [
    "# Plotting the PRESS values for the training and validation sets:\n",
    "plt.plot(range(1, 11), press_train[:10], label = 'Data latih', linewidth=1, color='black')\n",
    "plt.plot(range(1, 11), press_test[:10], label = 'Data uji', linewidth=1, color='red')\n",
    "plt.xlabel('Jumlah komponen', fontsize = 12)\n",
    "plt.ylabel('Nilai MSE 5 Fold', fontsize = 12)\n",
    "plt.title('Nilai MSE 5 Fold terhadap Jumlah Komponen PLS', fontsize = 12)\n",
    "#plt.xticks(range(1, n_components + 1, 5))\n",
    "plt.legend()\n",
    "plt.show()"
   ]
  },
  {
   "cell_type": "code",
   "execution_count": 37,
   "id": "197cfd85",
   "metadata": {},
   "outputs": [
    {
     "name": "stdout",
     "output_type": "stream",
     "text": [
      "The best number of components is: 1\n"
     ]
    }
   ],
   "source": [
    "press_train_norm = (press_train - np.min(press_train)) / (np.max(press_train) - np.min(press_train))\n",
    "press_test_norm = (press_test - np.min(press_test)) / (np.max(press_test) - np.min(press_test))\n",
    "best_n_components = np.argmin(press_train_norm) + 1\n",
    "print('The best number of components is:', best_n_components)"
   ]
  },
  {
   "cell_type": "code",
   "execution_count": 21,
   "id": "4d0a809a",
   "metadata": {},
   "outputs": [],
   "source": [
    "pls = PLSRegression(n_components = best_n_components)\n",
    "pls.fit(X_train, y_train)\n",
    "y_pred_train = pls.predict(X_train)\n",
    "y_pred_val = pls.predict(X_val)\n",
    "y_pred_test = pls.predict(X_test)\n",
    "\n",
    "y_pred_train = np.clip(y_pred_train, 0, None)\n",
    "y_pred_val = np.clip(y_pred_val, 0, None)\n",
    "y_pred_test = np.clip(y_pred_test, 0, None)"
   ]
  },
  {
   "cell_type": "code",
   "execution_count": 38,
   "id": "77829753",
   "metadata": {},
   "outputs": [
    {
     "data": {
      "text/html": [
       "<div>\n",
       "<style scoped>\n",
       "    .dataframe tbody tr th:only-of-type {\n",
       "        vertical-align: middle;\n",
       "    }\n",
       "\n",
       "    .dataframe tbody tr th {\n",
       "        vertical-align: top;\n",
       "    }\n",
       "\n",
       "    .dataframe thead th {\n",
       "        text-align: right;\n",
       "    }\n",
       "</style>\n",
       "<table border=\"1\" class=\"dataframe\">\n",
       "  <thead>\n",
       "    <tr style=\"text-align: right;\">\n",
       "      <th></th>\n",
       "      <th>RMSE</th>\n",
       "      <th>MAE</th>\n",
       "    </tr>\n",
       "  </thead>\n",
       "  <tbody>\n",
       "    <tr>\n",
       "      <th>Train</th>\n",
       "      <td>0.978</td>\n",
       "      <td>0.750</td>\n",
       "    </tr>\n",
       "    <tr>\n",
       "      <th>Validation</th>\n",
       "      <td>1.042</td>\n",
       "      <td>0.848</td>\n",
       "    </tr>\n",
       "    <tr>\n",
       "      <th>Test</th>\n",
       "      <td>1.030</td>\n",
       "      <td>0.908</td>\n",
       "    </tr>\n",
       "  </tbody>\n",
       "</table>\n",
       "</div>"
      ],
      "text/plain": [
       "             RMSE    MAE\n",
       "Train       0.978  0.750\n",
       "Validation  1.042  0.848\n",
       "Test        1.030  0.908"
      ]
     },
     "execution_count": 38,
     "metadata": {},
     "output_type": "execute_result"
    }
   ],
   "source": [
    "# Evaluation metrics:\n",
    "# RMSE:\n",
    "rmse_train = np.sqrt(np.mean((y_pred_train - y_train)**2))\n",
    "rmse_val = np.sqrt(np.mean((y_pred_val - y_val)**2))\n",
    "rmse_test = np.sqrt(np.mean((y_pred_test - y_test)**2))\n",
    "\n",
    "# MAE:\n",
    "mae_train = np.mean(np.abs(y_pred_train - y_train))\n",
    "mae_val = np.mean(np.abs(y_pred_val - y_val))\n",
    "mae_test = np.mean(np.abs(y_pred_test - y_test))\n",
    "\n",
    "df = pd.DataFrame({'RMSE': [rmse_train, rmse_val, rmse_test], 'MAE': [mae_train, mae_val, mae_test]}, index = ['Train', 'Validation', 'Test'])\n",
    "df.round(3)"
   ]
  },
  {
   "cell_type": "code",
   "execution_count": 39,
   "id": "d0163c6f",
   "metadata": {},
   "outputs": [
    {
     "data": {
      "text/html": [
       "<div>\n",
       "<style scoped>\n",
       "    .dataframe tbody tr th:only-of-type {\n",
       "        vertical-align: middle;\n",
       "    }\n",
       "\n",
       "    .dataframe tbody tr th {\n",
       "        vertical-align: top;\n",
       "    }\n",
       "\n",
       "    .dataframe thead tr th {\n",
       "        text-align: left;\n",
       "    }\n",
       "</style>\n",
       "<table border=\"1\" class=\"dataframe\">\n",
       "  <thead>\n",
       "    <tr>\n",
       "      <th></th>\n",
       "      <th colspan=\"2\" halign=\"left\">Data</th>\n",
       "    </tr>\n",
       "    <tr>\n",
       "      <th></th>\n",
       "      <th>Real</th>\n",
       "      <th>Predicted</th>\n",
       "    </tr>\n",
       "  </thead>\n",
       "  <tbody>\n",
       "    <tr>\n",
       "      <th>1</th>\n",
       "      <td>7.1182</td>\n",
       "      <td>5.8501</td>\n",
       "    </tr>\n",
       "    <tr>\n",
       "      <th>2</th>\n",
       "      <td>5.0844</td>\n",
       "      <td>5.3038</td>\n",
       "    </tr>\n",
       "    <tr>\n",
       "      <th>3</th>\n",
       "      <td>4.8584</td>\n",
       "      <td>5.4794</td>\n",
       "    </tr>\n",
       "    <tr>\n",
       "      <th>4</th>\n",
       "      <td>6.3273</td>\n",
       "      <td>5.3994</td>\n",
       "    </tr>\n",
       "    <tr>\n",
       "      <th>5</th>\n",
       "      <td>6.4403</td>\n",
       "      <td>5.0132</td>\n",
       "    </tr>\n",
       "    <tr>\n",
       "      <th>6</th>\n",
       "      <td>4.5195</td>\n",
       "      <td>5.4568</td>\n",
       "    </tr>\n",
       "  </tbody>\n",
       "</table>\n",
       "</div>"
      ],
      "text/plain": [
       "     Data          \n",
       "     Real Predicted\n",
       "1  7.1182    5.8501\n",
       "2  5.0844    5.3038\n",
       "3  4.8584    5.4794\n",
       "4  6.3273    5.3994\n",
       "5  6.4403    5.0132\n",
       "6  4.5195    5.4568"
      ]
     },
     "execution_count": 39,
     "metadata": {},
     "output_type": "execute_result"
    }
   ],
   "source": [
    "# Print some results:\n",
    "y_test = np.round(y_test, 4)\n",
    "y_pred_test = np.round(y_pred_test, 4)\n",
    "\n",
    "df = pd.DataFrame({'Real concentration A': y_test, 'Predicted concentration A': y_pred_test[:,0]})\n",
    "# Multi level column names:\n",
    "df.columns = pd.MultiIndex.from_product([['Data'], ['Real', 'Predicted']])\n",
    "df.index += 1\n",
    "df[:10]"
   ]
  },
  {
   "cell_type": "code",
   "execution_count": 40,
   "id": "76396d32",
   "metadata": {},
   "outputs": [
    {
     "name": "stdout",
     "output_type": "stream",
     "text": [
      "     Label  Prediction    Real\n",
      "0    CPO.W      4.6668  5.1974\n",
      "1    CPO.K      4.6474  3.6156\n",
      "2    CPO.W      5.5446  4.9714\n",
      "3    CPO.C      4.9367  5.5364\n",
      "4    CPO.W      5.2537  4.9714\n",
      "5    CPO.W      4.7821  5.6494\n",
      "6    CPO.W      4.6357  4.8584\n",
      "7    CPO.C      5.8863  7.2312\n",
      "8    CPO.W      5.4892  5.1974\n",
      "9   CPO.MM      5.2931  5.0844\n",
      "10   CPO.K      5.7235  4.2935\n",
      "11   CPO.W      5.4914  5.0844\n",
      "12  CPO.MM      5.3055  5.1974\n",
      "13  CPO.MM      5.2845  5.0844\n",
      "14   CPO.W      6.6011  7.1182\n",
      "15   CPO.W      4.6470  4.8584\n",
      "16   CPO.W      4.6574  4.7455\n",
      "17   CPO.W      5.7646  5.8753\n",
      "18   CPO.W      5.8350  5.8753\n",
      "19   CPO.W      4.9744  4.9714\n"
     ]
    }
   ],
   "source": [
    "# Concatenate predictions and actual values for comparison\n",
    "y_pred = np.concatenate((y_pred_train, y_pred_val, y_pred_test), axis=0)\n",
    "y = np.concatenate((y_train, y_val, y_test), axis=0)\n",
    "labels_all = np.concatenate((labels_train, labels_val, labels_test), axis=0)\n",
    "\n",
    "# Round the predictions and actual values\n",
    "y_pred = np.round(y_pred, 4)\n",
    "y = np.round(y, 4)\n",
    "\n",
    "df_results = pd.DataFrame({'Label': labels_all, 'Prediction': y_pred[:, 0], 'Real': y})\n",
    "\n",
    "print(df_results.head(20))"
   ]
  },
  {
   "cell_type": "code",
   "execution_count": 25,
   "id": "42be120e",
   "metadata": {},
   "outputs": [
    {
     "data": {
      "text/html": [
       "<div>\n",
       "<style scoped>\n",
       "    .dataframe tbody tr th:only-of-type {\n",
       "        vertical-align: middle;\n",
       "    }\n",
       "\n",
       "    .dataframe tbody tr th {\n",
       "        vertical-align: top;\n",
       "    }\n",
       "\n",
       "    .dataframe thead th {\n",
       "        text-align: right;\n",
       "    }\n",
       "</style>\n",
       "<table border=\"1\" class=\"dataframe\">\n",
       "  <thead>\n",
       "    <tr style=\"text-align: right;\">\n",
       "      <th></th>\n",
       "      <th>Label</th>\n",
       "      <th>Prediction</th>\n",
       "      <th>Real</th>\n",
       "    </tr>\n",
       "  </thead>\n",
       "  <tbody>\n",
       "    <tr>\n",
       "      <th>0</th>\n",
       "      <td>CPO.W</td>\n",
       "      <td>4.6668</td>\n",
       "      <td>5.1974</td>\n",
       "    </tr>\n",
       "    <tr>\n",
       "      <th>1</th>\n",
       "      <td>CPO.K</td>\n",
       "      <td>4.6474</td>\n",
       "      <td>3.6156</td>\n",
       "    </tr>\n",
       "    <tr>\n",
       "      <th>2</th>\n",
       "      <td>CPO.W</td>\n",
       "      <td>5.5446</td>\n",
       "      <td>4.9714</td>\n",
       "    </tr>\n",
       "    <tr>\n",
       "      <th>3</th>\n",
       "      <td>CPO.C</td>\n",
       "      <td>4.9367</td>\n",
       "      <td>5.5364</td>\n",
       "    </tr>\n",
       "    <tr>\n",
       "      <th>4</th>\n",
       "      <td>CPO.W</td>\n",
       "      <td>5.2537</td>\n",
       "      <td>4.9714</td>\n",
       "    </tr>\n",
       "    <tr>\n",
       "      <th>5</th>\n",
       "      <td>CPO.W</td>\n",
       "      <td>4.7821</td>\n",
       "      <td>5.6494</td>\n",
       "    </tr>\n",
       "    <tr>\n",
       "      <th>6</th>\n",
       "      <td>CPO.W</td>\n",
       "      <td>4.6357</td>\n",
       "      <td>4.8584</td>\n",
       "    </tr>\n",
       "    <tr>\n",
       "      <th>7</th>\n",
       "      <td>CPO.C</td>\n",
       "      <td>5.8863</td>\n",
       "      <td>7.2312</td>\n",
       "    </tr>\n",
       "    <tr>\n",
       "      <th>8</th>\n",
       "      <td>CPO.W</td>\n",
       "      <td>5.4892</td>\n",
       "      <td>5.1974</td>\n",
       "    </tr>\n",
       "    <tr>\n",
       "      <th>9</th>\n",
       "      <td>CPO.MM</td>\n",
       "      <td>5.2931</td>\n",
       "      <td>5.0844</td>\n",
       "    </tr>\n",
       "    <tr>\n",
       "      <th>10</th>\n",
       "      <td>CPO.K</td>\n",
       "      <td>5.7235</td>\n",
       "      <td>4.2935</td>\n",
       "    </tr>\n",
       "    <tr>\n",
       "      <th>11</th>\n",
       "      <td>CPO.W</td>\n",
       "      <td>5.4914</td>\n",
       "      <td>5.0844</td>\n",
       "    </tr>\n",
       "    <tr>\n",
       "      <th>12</th>\n",
       "      <td>CPO.MM</td>\n",
       "      <td>5.3055</td>\n",
       "      <td>5.1974</td>\n",
       "    </tr>\n",
       "    <tr>\n",
       "      <th>13</th>\n",
       "      <td>CPO.MM</td>\n",
       "      <td>5.2845</td>\n",
       "      <td>5.0844</td>\n",
       "    </tr>\n",
       "    <tr>\n",
       "      <th>14</th>\n",
       "      <td>CPO.W</td>\n",
       "      <td>6.6011</td>\n",
       "      <td>7.1182</td>\n",
       "    </tr>\n",
       "    <tr>\n",
       "      <th>15</th>\n",
       "      <td>CPO.W</td>\n",
       "      <td>4.6470</td>\n",
       "      <td>4.8584</td>\n",
       "    </tr>\n",
       "    <tr>\n",
       "      <th>16</th>\n",
       "      <td>CPO.W</td>\n",
       "      <td>4.6574</td>\n",
       "      <td>4.7455</td>\n",
       "    </tr>\n",
       "    <tr>\n",
       "      <th>17</th>\n",
       "      <td>CPO.W</td>\n",
       "      <td>5.7646</td>\n",
       "      <td>5.8753</td>\n",
       "    </tr>\n",
       "    <tr>\n",
       "      <th>18</th>\n",
       "      <td>CPO.W</td>\n",
       "      <td>5.8350</td>\n",
       "      <td>5.8753</td>\n",
       "    </tr>\n",
       "    <tr>\n",
       "      <th>19</th>\n",
       "      <td>CPO.W</td>\n",
       "      <td>4.9744</td>\n",
       "      <td>4.9714</td>\n",
       "    </tr>\n",
       "    <tr>\n",
       "      <th>20</th>\n",
       "      <td>CPO.C</td>\n",
       "      <td>5.9592</td>\n",
       "      <td>6.4403</td>\n",
       "    </tr>\n",
       "    <tr>\n",
       "      <th>21</th>\n",
       "      <td>CPO.MM</td>\n",
       "      <td>5.3891</td>\n",
       "      <td>6.1013</td>\n",
       "    </tr>\n",
       "    <tr>\n",
       "      <th>22</th>\n",
       "      <td>CPO.W</td>\n",
       "      <td>5.6160</td>\n",
       "      <td>5.8753</td>\n",
       "    </tr>\n",
       "    <tr>\n",
       "      <th>23</th>\n",
       "      <td>CPO.W</td>\n",
       "      <td>6.5786</td>\n",
       "      <td>7.3442</td>\n",
       "    </tr>\n",
       "    <tr>\n",
       "      <th>24</th>\n",
       "      <td>CPO.W</td>\n",
       "      <td>5.8501</td>\n",
       "      <td>7.1182</td>\n",
       "    </tr>\n",
       "    <tr>\n",
       "      <th>25</th>\n",
       "      <td>CPO.MM</td>\n",
       "      <td>5.3038</td>\n",
       "      <td>5.0844</td>\n",
       "    </tr>\n",
       "    <tr>\n",
       "      <th>26</th>\n",
       "      <td>CPO.W</td>\n",
       "      <td>5.4794</td>\n",
       "      <td>4.8584</td>\n",
       "    </tr>\n",
       "    <tr>\n",
       "      <th>27</th>\n",
       "      <td>CPO.W</td>\n",
       "      <td>5.3994</td>\n",
       "      <td>6.3273</td>\n",
       "    </tr>\n",
       "    <tr>\n",
       "      <th>28</th>\n",
       "      <td>CPO.W</td>\n",
       "      <td>5.0132</td>\n",
       "      <td>6.4403</td>\n",
       "    </tr>\n",
       "    <tr>\n",
       "      <th>29</th>\n",
       "      <td>CPO.K</td>\n",
       "      <td>5.4568</td>\n",
       "      <td>4.5195</td>\n",
       "    </tr>\n",
       "  </tbody>\n",
       "</table>\n",
       "</div>"
      ],
      "text/plain": [
       "     Label  Prediction    Real\n",
       "0    CPO.W      4.6668  5.1974\n",
       "1    CPO.K      4.6474  3.6156\n",
       "2    CPO.W      5.5446  4.9714\n",
       "3    CPO.C      4.9367  5.5364\n",
       "4    CPO.W      5.2537  4.9714\n",
       "5    CPO.W      4.7821  5.6494\n",
       "6    CPO.W      4.6357  4.8584\n",
       "7    CPO.C      5.8863  7.2312\n",
       "8    CPO.W      5.4892  5.1974\n",
       "9   CPO.MM      5.2931  5.0844\n",
       "10   CPO.K      5.7235  4.2935\n",
       "11   CPO.W      5.4914  5.0844\n",
       "12  CPO.MM      5.3055  5.1974\n",
       "13  CPO.MM      5.2845  5.0844\n",
       "14   CPO.W      6.6011  7.1182\n",
       "15   CPO.W      4.6470  4.8584\n",
       "16   CPO.W      4.6574  4.7455\n",
       "17   CPO.W      5.7646  5.8753\n",
       "18   CPO.W      5.8350  5.8753\n",
       "19   CPO.W      4.9744  4.9714\n",
       "20   CPO.C      5.9592  6.4403\n",
       "21  CPO.MM      5.3891  6.1013\n",
       "22   CPO.W      5.6160  5.8753\n",
       "23   CPO.W      6.5786  7.3442\n",
       "24   CPO.W      5.8501  7.1182\n",
       "25  CPO.MM      5.3038  5.0844\n",
       "26   CPO.W      5.4794  4.8584\n",
       "27   CPO.W      5.3994  6.3273\n",
       "28   CPO.W      5.0132  6.4403\n",
       "29   CPO.K      5.4568  4.5195"
      ]
     },
     "execution_count": 25,
     "metadata": {},
     "output_type": "execute_result"
    }
   ],
   "source": [
    "df_results"
   ]
  },
  {
   "cell_type": "code",
   "execution_count": 26,
   "id": "f357eb39",
   "metadata": {},
   "outputs": [
    {
     "name": "stdout",
     "output_type": "stream",
     "text": [
      "Concentration values for df_data with label CPKO.W:\n",
      "Series([], Name: concentration, dtype: float64)\n",
      "\n",
      "df_results with label CPKO.W:\n",
      "Empty DataFrame\n",
      "Columns: [Label, Prediction, Real]\n",
      "Index: []\n"
     ]
    }
   ],
   "source": [
    "# Extract the concentration column for rows with label 'a' from df_data\n",
    "df_data_a_concentration = all_data[all_data['labels'] == 'CPKO.W']['concentration']\n",
    "print(\"Concentration values for df_data with label CPKO.W:\")\n",
    "print(df_data_a_concentration)\n",
    "\n",
    "# Extract rows with label 'a' from df_results\n",
    "df_results_a = df_results[df_results['Label'] == 'CPKO.W']\n",
    "print(\"\\ndf_results with label CPKO.W:\")\n",
    "print(df_results_a)"
   ]
  },
  {
   "cell_type": "code",
   "execution_count": 27,
   "id": "b579b39d",
   "metadata": {},
   "outputs": [
    {
     "name": "stdout",
     "output_type": "stream",
     "text": [
      "['CPO.W', 'CPO.K', 'CPO.C', 'CPO.MM']\n"
     ]
    }
   ],
   "source": [
    "# Extract unique values from the 'Label' column\n",
    "unique_labels = df_results['Label'].unique().tolist()\n",
    "\n",
    "# Print the list\n",
    "print(unique_labels)"
   ]
  },
  {
   "cell_type": "code",
   "execution_count": 28,
   "id": "d4859954",
   "metadata": {},
   "outputs": [
    {
     "name": "stdout",
     "output_type": "stream",
     "text": [
      "Label: CPO.W\n",
      "    Label  Prediction    Real\n",
      "0   CPO.W      4.6668  5.1974\n",
      "2   CPO.W      5.5446  4.9714\n",
      "4   CPO.W      5.2537  4.9714\n",
      "5   CPO.W      4.7821  5.6494\n",
      "6   CPO.W      4.6357  4.8584\n",
      "8   CPO.W      5.4892  5.1974\n",
      "11  CPO.W      5.4914  5.0844\n",
      "14  CPO.W      6.6011  7.1182\n",
      "15  CPO.W      4.6470  4.8584\n",
      "16  CPO.W      4.6574  4.7455\n",
      "17  CPO.W      5.7646  5.8753\n",
      "18  CPO.W      5.8350  5.8753\n",
      "19  CPO.W      4.9744  4.9714\n",
      "22  CPO.W      5.6160  5.8753\n",
      "23  CPO.W      6.5786  7.3442\n",
      "24  CPO.W      5.8501  7.1182\n",
      "26  CPO.W      5.4794  4.8584\n",
      "27  CPO.W      5.3994  6.3273\n",
      "28  CPO.W      5.0132  6.4403\n",
      "\n",
      "Label: CPO.K\n",
      "    Label  Prediction    Real\n",
      "1   CPO.K      4.6474  3.6156\n",
      "10  CPO.K      5.7235  4.2935\n",
      "29  CPO.K      5.4568  4.5195\n",
      "\n",
      "Label: CPO.C\n",
      "    Label  Prediction    Real\n",
      "3   CPO.C      4.9367  5.5364\n",
      "7   CPO.C      5.8863  7.2312\n",
      "20  CPO.C      5.9592  6.4403\n",
      "\n",
      "Label: CPO.MM\n",
      "     Label  Prediction    Real\n",
      "9   CPO.MM      5.2931  5.0844\n",
      "12  CPO.MM      5.3055  5.1974\n",
      "13  CPO.MM      5.2845  5.0844\n",
      "21  CPO.MM      5.3891  6.1013\n",
      "25  CPO.MM      5.3038  5.0844\n",
      "\n"
     ]
    }
   ],
   "source": [
    "# Loop through each unique label and print the corresponding rows\n",
    "for label in unique_labels:\n",
    "    print(f\"Label: {label}\")\n",
    "    print(df_results[df_results['Label'] == label])\n",
    "    print()"
   ]
  },
  {
   "cell_type": "code",
   "execution_count": 29,
   "id": "77371d7b",
   "metadata": {},
   "outputs": [
    {
     "name": "stdout",
     "output_type": "stream",
     "text": [
      "Data saved to output.xlsx\n"
     ]
    }
   ],
   "source": [
    "with pd.ExcelWriter('output.xlsx', engine='xlsxwriter') as writer:\n",
    "    # Loop through each unique label and write to a separate sheet\n",
    "    for label in unique_labels:\n",
    "        df_results[df_results['Label'] == label].to_excel(writer, sheet_name=label, index=False)\n",
    "\n",
    "print(\"Data saved to output.xlsx\")"
   ]
  },
  {
   "cell_type": "code",
   "execution_count": 30,
   "id": "b33238d9",
   "metadata": {},
   "outputs": [
    {
     "data": {
      "image/png": "[encoded data removed]",
      "text/plain": [
       "<Figure size 720x432 with 1 Axes>"
      ]
     },
     "metadata": {
      "needs_background": "light"
     },
     "output_type": "display_data"
    },
    {
     "data": {
      "image/png": "[encoded data removed]",
      "text/plain": [
       "<Figure size 720x432 with 1 Axes>"
      ]
     },
     "metadata": {
      "needs_background": "light"
     },
     "output_type": "display_data"
    },
    {
     "data": {
      "image/png": "[encoded data removed]",
      "text/plain": [
       "<Figure size 720x432 with 1 Axes>"
      ]
     },
     "metadata": {
      "needs_background": "light"
     },
     "output_type": "display_data"
    },
    {
     "data": {
      "image/png": "[encoded data removed]",
      "text/plain": [
       "<Figure size 720x432 with 1 Axes>"
      ]
     },
     "metadata": {
      "needs_background": "light"
     },
     "output_type": "display_data"
    }
   ],
   "source": [
    "for label in unique_labels:\n",
    "    subset_df = df_results[df_results['Label'] == label]\n",
    "    \n",
    "    # Calculate the error (Mean Absolute Error)\n",
    "    mae = (subset_df['Prediction'] - subset_df['Real']).abs().mean()\n",
    "    \n",
    "    # Create a new index from 1 to the length of the subset\n",
    "    new_index = range(1, len(subset_df) + 1)\n",
    "    \n",
    "    # Plot the data as scatter plot without lines\n",
    "    plt.figure(figsize=(10, 6))\n",
    "    plt.scatter(new_index, subset_df['Prediction'], label='Prediction', marker='o', s=100)\n",
    "    plt.scatter(new_index, subset_df['Real'], label='Real', marker='x', s=100)\n",
    "    plt.ylim(0, 10)\n",
    "    # Add title and labels\n",
    "    plt.title(f'{label} - Prediction vs Real\\nMean Absolute Error: {mae:.4f}')\n",
    "    plt.xlabel('Index')\n",
    "    plt.ylabel('Value')\n",
    "    plt.legend()\n",
    "    \n",
    "    # Show the plot\n",
    "    plt.show()"
   ]
  },
  {
   "cell_type": "code",
   "execution_count": 33,
   "id": "f0c88529",
   "metadata": {},
   "outputs": [
    {
     "data": {
      "image/png": "[encoded data removed]",
      "text/plain": [
       "<Figure size 576x576 with 1 Axes>"
      ]
     },
     "metadata": {
      "needs_background": "light"
     },
     "output_type": "display_data"
    },
    {
     "data": {
      "image/png": "[encoded data removed]",
      "text/plain": [
       "<Figure size 576x576 with 1 Axes>"
      ]
     },
     "metadata": {
      "needs_background": "light"
     },
     "output_type": "display_data"
    },
    {
     "data": {
      "image/png": "[encoded data removed]",
      "text/plain": [
       "<Figure size 576x576 with 1 Axes>"
      ]
     },
     "metadata": {
      "needs_background": "light"
     },
     "output_type": "display_data"
    },
    {
     "data": {
      "image/png": "[encoded data removed]",
      "text/plain": [
       "<Figure size 576x576 with 1 Axes>"
      ]
     },
     "metadata": {
      "needs_background": "light"
     },
     "output_type": "display_data"
    }
   ],
   "source": [
    "for label in unique_labels:\n",
    "    subset_df = df_results[df_results['Label'] == label]\n",
    "    \n",
    "    # Calculate the error (Mean Absolute Error)\n",
    "    mae = (subset_df['Prediction'] - subset_df['Real']).abs().mean()\n",
    "    \n",
    "    # Plot the data\n",
    "    plt.figure(figsize=(8, 8))\n",
    "    plt.scatter(subset_df['Real'], subset_df['Prediction'], label=f'MAE: {mae:.4f}', color='blue', s=100)\n",
    "    \n",
    "    # Plot y=x line for reference\n",
    "    #plt.plot([0, 10], [0, 10], linestyle='--', color='red', label='y=x')\n",
    "    \n",
    "    # Set the limits for x and y axes\n",
    "    plt.xlim(0, 10)\n",
    "    plt.ylim(0, 10)\n",
    "    \n",
    "    # Add title and labels\n",
    "    plt.title(f'{label} - Prediction vs Real')\n",
    "    plt.xlabel('Real')\n",
    "    plt.ylabel('Prediction')\n",
    "    plt.legend()\n",
    "    \n",
    "    # Show the plot\n",
    "    plt.show()"
   ]
  },
  {
   "cell_type": "code",
   "execution_count": 41,
   "id": "2765f9da",
   "metadata": {},
   "outputs": [
    {
     "data": {
      "image/png": "[encoded data removed]",
      "text/plain": [
       "<Figure size 576x576 with 1 Axes>"
      ]
     },
     "metadata": {
      "needs_background": "light"
     },
     "output_type": "display_data"
    },
    {
     "data": {
      "image/png": "[encoded data removed]",
      "text/plain": [
       "<Figure size 576x576 with 1 Axes>"
      ]
     },
     "metadata": {
      "needs_background": "light"
     },
     "output_type": "display_data"
    },
    {
     "data": {
      "image/png": "[encoded data removed]",
      "text/plain": [
       "<Figure size 576x576 with 1 Axes>"
      ]
     },
     "metadata": {
      "needs_background": "light"
     },
     "output_type": "display_data"
    },
    {
     "data": {
      "image/png": "[encoded data removed]",
      "text/plain": [
       "<Figure size 576x576 with 1 Axes>"
      ]
     },
     "metadata": {
      "needs_background": "light"
     },
     "output_type": "display_data"
    }
   ],
   "source": [
    "# Categories to filter\n",
    "categories = ['RBDPO', 'RBDPKO', 'CPO', 'CPKO']\n",
    "\n",
    "# Colors for different samples\n",
    "colors = {\n",
    "    'CPKO.A': 'blue',\n",
    "    'CPKO.W': 'green',\n",
    "    'CPKO.MM': 'orange',\n",
    "    'CPO.C': 'purple',\n",
    "    'CPO.K': 'red',\n",
    "    'CPO.W': 'brown',\n",
    "    'CPO.MM': 'pink',\n",
    "    'RBDPKO.A': 'lightblue',\n",
    "    'RBDPKO.W': 'cyan',\n",
    "    'RBDPKO.MM': 'magenta',\n",
    "    'RBDPO.A': 'yellow',\n",
    "    'RBDPO.W': 'grey',\n",
    "    'RBDPO.MM': 'black'\n",
    "}\n",
    "for category in categories:\n",
    "    # Filter data for each category\n",
    "    category_data = df_results[df_results['Label'].str.contains(category)]\n",
    "    \n",
    "    plt.figure(figsize=(8, 8))\n",
    "    \n",
    "    for sample in category_data['Label'].unique():\n",
    "        sample_data = category_data[category_data['Label'] == sample]\n",
    "        \n",
    "        # Calculate the error (Mean Absolute Error)\n",
    "        mae = (sample_data['Prediction'] - sample_data['Real']).abs().mean()\n",
    "        \n",
    "        # Plot the data\n",
    "        plt.scatter(sample_data['Real'], sample_data['Prediction'], label=f'{sample} (MAE: {mae:.4f})',\n",
    "                    color=colors[sample], s=100)\n",
    "    \n",
    "    # Plot y=x line for reference\n",
    "    plt.plot([-0.02, 10], [-0.02, 10], linestyle='--', color='black', label='y=x')\n",
    "    \n",
    "    # Set the limits for x and y axes\n",
    "    plt.xlim(-0.02, 10)\n",
    "    plt.ylim(-0.02, 10)\n",
    "    \n",
    "    # Add title and labels\n",
    "    plt.title(f'{category} - Perhitungan Raman vs Konvensional')\n",
    "    plt.xlabel('Perhitungan Konvensional')\n",
    "    plt.ylabel('Perhitungan Raman')\n",
    "    plt.legend()\n",
    "    \n",
    "    # Show the plot\n",
    "    plt.show()"
   ]
  },
  {
   "cell_type": "code",
   "execution_count": null,
   "id": "0dbf154c",
   "metadata": {},
   "outputs": [],
   "source": []
  }
 ],
 "metadata": {
  "kernelspec": {
   "display_name": "Python 3 (ipykernel)",
   "language": "python",
   "name": "python3"
  },
  "language_info": {
   "codemirror_mode": {
    "name": "ipython",
    "version": 3
   },
   "file_extension": ".py",
   "mimetype": "text/x-python",
   "name": "python",
   "nbconvert_exporter": "python",
   "pygments_lexer": "ipython3",
   "version": "3.9.7"
  }
 },
 "nbformat": 4,
 "nbformat_minor": 5
}
